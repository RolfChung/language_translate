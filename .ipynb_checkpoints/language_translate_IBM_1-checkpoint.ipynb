{
 "cells": [
  {
   "cell_type": "code",
   "execution_count": 1,
   "id": "christian-framing",
   "metadata": {},
   "outputs": [
    {
     "name": "stdout",
     "output_type": "stream",
     "text": [
      "Requirement already satisfied: ibm-watson in c:\\users\\gamarandor\\anaconda3\\envs\\ibm_sql\\lib\\site-packages (5.1.0)\n",
      "Requirement already satisfied: ibm-cloud-sdk-core>=3.3.6 in c:\\users\\gamarandor\\anaconda3\\envs\\ibm_sql\\lib\\site-packages (from ibm-watson) (3.9.0)\n",
      "Requirement already satisfied: websocket-client==0.48.0 in c:\\users\\gamarandor\\anaconda3\\envs\\ibm_sql\\lib\\site-packages (from ibm-watson) (0.48.0)\n",
      "Requirement already satisfied: requests<3.0,>=2.0 in c:\\users\\gamarandor\\anaconda3\\envs\\ibm_sql\\lib\\site-packages (from ibm-watson) (2.22.0)\n",
      "Requirement already satisfied: python-dateutil>=2.5.3 in c:\\users\\gamarandor\\anaconda3\\envs\\ibm_sql\\lib\\site-packages (from ibm-watson) (2.8.0)\n",
      "Requirement already satisfied: PyJWT<3.0.0,>=2.0.1 in c:\\users\\gamarandor\\anaconda3\\envs\\ibm_sql\\lib\\site-packages (from ibm-cloud-sdk-core>=3.3.6->ibm-watson) (2.0.1)\n",
      "Requirement already satisfied: six in c:\\users\\gamarandor\\anaconda3\\envs\\ibm_sql\\lib\\site-packages (from websocket-client==0.48.0->ibm-watson) (1.12.0)\n",
      "Requirement already satisfied: urllib3!=1.25.0,!=1.25.1,<1.26,>=1.21.1 in c:\\users\\gamarandor\\anaconda3\\envs\\ibm_sql\\lib\\site-packages (from requests<3.0,>=2.0->ibm-watson) (1.24.2)\n",
      "Requirement already satisfied: idna<2.9,>=2.5 in c:\\users\\gamarandor\\anaconda3\\envs\\ibm_sql\\lib\\site-packages (from requests<3.0,>=2.0->ibm-watson) (2.8)\n",
      "Requirement already satisfied: certifi>=2017.4.17 in c:\\users\\gamarandor\\anaconda3\\envs\\ibm_sql\\lib\\site-packages (from requests<3.0,>=2.0->ibm-watson) (2019.9.11)\n",
      "Requirement already satisfied: chardet<3.1.0,>=3.0.2 in c:\\users\\gamarandor\\anaconda3\\envs\\ibm_sql\\lib\\site-packages (from requests<3.0,>=2.0->ibm-watson) (3.0.4)\n",
      "Note: you may need to restart the kernel to use updated packages.\n"
     ]
    }
   ],
   "source": [
    "pip install ibm-watson"
   ]
  },
  {
   "cell_type": "code",
   "execution_count": 38,
   "id": "given-dylan",
   "metadata": {},
   "outputs": [
    {
     "data": {
      "text/html": [
       "<div>\n",
       "<style scoped>\n",
       "    .dataframe tbody tr th:only-of-type {\n",
       "        vertical-align: middle;\n",
       "    }\n",
       "\n",
       "    .dataframe tbody tr th {\n",
       "        vertical-align: top;\n",
       "    }\n",
       "\n",
       "    .dataframe thead th {\n",
       "        text-align: right;\n",
       "    }\n",
       "</style>\n",
       "<table border=\"1\" class=\"dataframe\">\n",
       "  <thead>\n",
       "    <tr style=\"text-align: right;\">\n",
       "      <th></th>\n",
       "      <th>Vehicles</th>\n",
       "      <th>Count</th>\n",
       "    </tr>\n",
       "  </thead>\n",
       "  <tbody>\n",
       "    <tr>\n",
       "      <td>1</td>\n",
       "      <td>Car</td>\n",
       "      <td>10</td>\n",
       "    </tr>\n",
       "    <tr>\n",
       "      <td>2</td>\n",
       "      <td>Bus</td>\n",
       "      <td>14</td>\n",
       "    </tr>\n",
       "  </tbody>\n",
       "</table>\n",
       "</div>"
      ],
      "text/plain": [
       "  Vehicles Count\n",
       "1      Car    10\n",
       "2      Bus    14"
      ]
     },
     "execution_count": 38,
     "metadata": {},
     "output_type": "execute_result"
    }
   ],
   "source": [
    "import pandas as pd\n",
    "import numpy as np\n",
    "np.array([['Car',10], ['Bus', 14]])\n",
    "pd.DataFrame(np.array([['Car',10], ['Bus', 14]]), index=[1,2], \n",
    "             columns=['Vehicles', \"Count\"])"
   ]
  },
  {
   "cell_type": "code",
   "execution_count": 3,
   "id": "fatal-tuition",
   "metadata": {},
   "outputs": [],
   "source": [
    "from ibm_watson import LanguageTranslatorV3\n",
    "import json\n",
    "from ibm_cloud_sdk_core.authenticators import IAMAuthenticator\n",
    "\n",
    "\n",
    "url_lt=\"https://api.eu-gb.language-translator.watson.cloud.ibm.com/instances/49ea39f9-7914-4862-a980-3eab92488f2b\"\n",
    "apikey_lt=\"8HdzjfQ7etGrEgfq7WPRHBzETa0CbBRNSjh6XTzj8dfT\"\n",
    "version_lt='2018-05-01'"
   ]
  },
  {
   "cell_type": "code",
   "execution_count": 4,
   "id": "private-avatar",
   "metadata": {},
   "outputs": [
    {
     "data": {
      "text/plain": [
       "<ibm_watson.language_translator_v3.LanguageTranslatorV3 at 0x169616a7808>"
      ]
     },
     "execution_count": 4,
     "metadata": {},
     "output_type": "execute_result"
    }
   ],
   "source": [
    "authenticator = IAMAuthenticator(apikey_lt)\n",
    "language_translator = LanguageTranslatorV3(version=version_lt,authenticator=authenticator)\n",
    "language_translator.set_service_url(url_lt)\n",
    "language_translator"
   ]
  },
  {
   "cell_type": "code",
   "execution_count": 5,
   "id": "afraid-discrimination",
   "metadata": {},
   "outputs": [
    {
     "data": {
      "text/html": [
       "<div>\n",
       "<style scoped>\n",
       "    .dataframe tbody tr th:only-of-type {\n",
       "        vertical-align: middle;\n",
       "    }\n",
       "\n",
       "    .dataframe tbody tr th {\n",
       "        vertical-align: top;\n",
       "    }\n",
       "\n",
       "    .dataframe thead th {\n",
       "        text-align: right;\n",
       "    }\n",
       "</style>\n",
       "<table border=\"1\" class=\"dataframe\">\n",
       "  <thead>\n",
       "    <tr style=\"text-align: right;\">\n",
       "      <th></th>\n",
       "      <th>language</th>\n",
       "      <th>name</th>\n",
       "    </tr>\n",
       "  </thead>\n",
       "  <tbody>\n",
       "    <tr>\n",
       "      <td>0</td>\n",
       "      <td>af</td>\n",
       "      <td>Afrikaans</td>\n",
       "    </tr>\n",
       "    <tr>\n",
       "      <td>1</td>\n",
       "      <td>ar</td>\n",
       "      <td>Arabic</td>\n",
       "    </tr>\n",
       "    <tr>\n",
       "      <td>2</td>\n",
       "      <td>az</td>\n",
       "      <td>Azerbaijani</td>\n",
       "    </tr>\n",
       "    <tr>\n",
       "      <td>3</td>\n",
       "      <td>ba</td>\n",
       "      <td>Bashkir</td>\n",
       "    </tr>\n",
       "    <tr>\n",
       "      <td>4</td>\n",
       "      <td>be</td>\n",
       "      <td>Belarusian</td>\n",
       "    </tr>\n",
       "    <tr>\n",
       "      <td>...</td>\n",
       "      <td>...</td>\n",
       "      <td>...</td>\n",
       "    </tr>\n",
       "    <tr>\n",
       "      <td>71</td>\n",
       "      <td>uk</td>\n",
       "      <td>Ukrainian</td>\n",
       "    </tr>\n",
       "    <tr>\n",
       "      <td>72</td>\n",
       "      <td>ur</td>\n",
       "      <td>Urdu</td>\n",
       "    </tr>\n",
       "    <tr>\n",
       "      <td>73</td>\n",
       "      <td>vi</td>\n",
       "      <td>Vietnamese</td>\n",
       "    </tr>\n",
       "    <tr>\n",
       "      <td>74</td>\n",
       "      <td>zh</td>\n",
       "      <td>Simplified Chinese</td>\n",
       "    </tr>\n",
       "    <tr>\n",
       "      <td>75</td>\n",
       "      <td>zh-TW</td>\n",
       "      <td>Traditional Chinese</td>\n",
       "    </tr>\n",
       "  </tbody>\n",
       "</table>\n",
       "<p>76 rows × 2 columns</p>\n",
       "</div>"
      ],
      "text/plain": [
       "   language                 name\n",
       "0        af            Afrikaans\n",
       "1        ar               Arabic\n",
       "2        az          Azerbaijani\n",
       "3        ba              Bashkir\n",
       "4        be           Belarusian\n",
       "..      ...                  ...\n",
       "71       uk            Ukrainian\n",
       "72       ur                 Urdu\n",
       "73       vi           Vietnamese\n",
       "74       zh   Simplified Chinese\n",
       "75    zh-TW  Traditional Chinese\n",
       "\n",
       "[76 rows x 2 columns]"
      ]
     },
     "execution_count": 5,
     "metadata": {},
     "output_type": "execute_result"
    }
   ],
   "source": [
    "from pandas.io.json import json_normalize\n",
    "language_df = json_normalize(language_translator.list_identifiable_languages().get_result(), \"languages\")\n",
    "language_df "
   ]
  },
  {
   "cell_type": "code",
   "execution_count": 6,
   "id": "published-processing",
   "metadata": {},
   "outputs": [
    {
     "data": {
      "text/html": [
       "<div>\n",
       "<style scoped>\n",
       "    .dataframe tbody tr th:only-of-type {\n",
       "        vertical-align: middle;\n",
       "    }\n",
       "\n",
       "    .dataframe tbody tr th {\n",
       "        vertical-align: top;\n",
       "    }\n",
       "\n",
       "    .dataframe thead th {\n",
       "        text-align: right;\n",
       "    }\n",
       "</style>\n",
       "<table border=\"1\" class=\"dataframe\">\n",
       "  <thead>\n",
       "    <tr style=\"text-align: right;\">\n",
       "      <th></th>\n",
       "      <th>language</th>\n",
       "      <th>name</th>\n",
       "    </tr>\n",
       "  </thead>\n",
       "  <tbody>\n",
       "    <tr>\n",
       "      <td>12</td>\n",
       "      <td>de</td>\n",
       "      <td>German</td>\n",
       "    </tr>\n",
       "  </tbody>\n",
       "</table>\n",
       "</div>"
      ],
      "text/plain": [
       "   language    name\n",
       "12       de  German"
      ]
     },
     "execution_count": 6,
     "metadata": {},
     "output_type": "execute_result"
    }
   ],
   "source": [
    "language_df[language_df.name=='German']"
   ]
  },
  {
   "cell_type": "code",
   "execution_count": 7,
   "id": "after-arabic",
   "metadata": {},
   "outputs": [
    {
     "data": {
      "text/plain": [
       "'Bonjour'"
      ]
     },
     "execution_count": 7,
     "metadata": {},
     "output_type": "execute_result"
    }
   ],
   "source": [
    "def english_to_french(recognized_text):\n",
    "        translation_response_fr = \\\n",
    "        language_translator.translate(\\\n",
    "        text=recognized_text, model_id='en-fr')\n",
    "        translation_fr=translation_response_fr.get_result()\n",
    "        french_translation =translation_fr['translations'][0]['translation']\n",
    "        return french_translation \n",
    "\n",
    "english_to_french('Hello')\n"
   ]
  },
  {
   "cell_type": "code",
   "execution_count": 8,
   "id": "acting-fourth",
   "metadata": {},
   "outputs": [
    {
     "name": "stderr",
     "output_type": "stream",
     "text": [
      "test1 (__main__.TestEnglFrench) ... FAIL\n",
      "\n",
      "======================================================================\n",
      "FAIL: test1 (__main__.TestEnglFrench)\n",
      "----------------------------------------------------------------------\n",
      "Traceback (most recent call last):\n",
      "  File \"<ipython-input-8-fa19d1b3adcb>\", line 5, in test1\n",
      "    self.assertEqual(english_to_french(0), 'TypeError')\n",
      "AssertionError: '0' != 'TypeError'\n",
      "- 0\n",
      "+ TypeError\n",
      "\n",
      "\n",
      "----------------------------------------------------------------------\n",
      "Ran 1 test in 0.389s\n",
      "\n",
      "FAILED (failures=1)\n"
     ]
    },
    {
     "data": {
      "text/plain": [
       "<unittest.main.TestProgram at 0x1696175cbc8>"
      ]
     },
     "execution_count": 8,
     "metadata": {},
     "output_type": "execute_result"
    }
   ],
   "source": [
    "import unittest\n",
    "\n",
    "class TestEnglFrench(unittest.TestCase): \n",
    "    def test1(self): \n",
    "        self.assertEqual(english_to_french(0), 'TypeError') \n",
    "        self.assertEqual(english_to_french('Hello'), 'Bonjour')  \n",
    "        self.assertNotEqual(english_to_french('car'), 'parapluie')  \n",
    "\n",
    "unittest.main(argv=[''], verbosity=3, exit=False)\n",
    "\n"
   ]
  },
  {
   "cell_type": "code",
   "execution_count": 9,
   "id": "selective-falls",
   "metadata": {},
   "outputs": [
    {
     "data": {
      "text/plain": [
       "'0'"
      ]
     },
     "execution_count": 9,
     "metadata": {},
     "output_type": "execute_result"
    }
   ],
   "source": [
    "english_to_french(0)"
   ]
  },
  {
   "cell_type": "code",
   "execution_count": 10,
   "id": "injured-blanket",
   "metadata": {},
   "outputs": [
    {
     "data": {
      "text/plain": [
       "'Hallo'"
      ]
     },
     "execution_count": 10,
     "metadata": {},
     "output_type": "execute_result"
    }
   ],
   "source": [
    "def english_to_german(recognized_text):\n",
    "        translation_response_ger = \\\n",
    "        language_translator.translate(\\\n",
    "        text=recognized_text, model_id='en-de')\n",
    "        translation_ger=translation_response_ger.get_result()\n",
    "        german_translation =translation_ger['translations'][0]['translation']\n",
    "        return german_translation\n",
    "\n",
    "english_to_german('Hello')"
   ]
  },
  {
   "cell_type": "code",
   "execution_count": 11,
   "id": "infinite-intellectual",
   "metadata": {},
   "outputs": [
    {
     "data": {
      "text/plain": [
       "'Auto'"
      ]
     },
     "execution_count": 11,
     "metadata": {},
     "output_type": "execute_result"
    }
   ],
   "source": [
    "english_to_german('car')"
   ]
  },
  {
   "cell_type": "code",
   "execution_count": 12,
   "id": "supported-projection",
   "metadata": {},
   "outputs": [
    {
     "name": "stderr",
     "output_type": "stream",
     "text": [
      "test1 (__main__.TestEnglFrench) ... FAIL\n",
      "test1 (__main__.TestEnglGerman) ... FAIL\n",
      "\n",
      "======================================================================\n",
      "FAIL: test1 (__main__.TestEnglFrench)\n",
      "----------------------------------------------------------------------\n",
      "Traceback (most recent call last):\n",
      "  File \"<ipython-input-8-fa19d1b3adcb>\", line 5, in test1\n",
      "    self.assertEqual(english_to_french(0), 'TypeError')\n",
      "AssertionError: '0' != 'TypeError'\n",
      "- 0\n",
      "+ TypeError\n",
      "\n",
      "\n",
      "======================================================================\n",
      "FAIL: test1 (__main__.TestEnglGerman)\n",
      "----------------------------------------------------------------------\n",
      "Traceback (most recent call last):\n",
      "  File \"<ipython-input-12-48aba9e325f7>\", line 3, in test1\n",
      "    self.assertEqual(english_to_german(0), 'TypeError')\n",
      "AssertionError: '0' != 'TypeError'\n",
      "- 0\n",
      "+ TypeError\n",
      "\n",
      "\n",
      "----------------------------------------------------------------------\n",
      "Ran 2 tests in 0.608s\n",
      "\n",
      "FAILED (failures=2)\n"
     ]
    },
    {
     "data": {
      "text/plain": [
       "<unittest.main.TestProgram at 0x1696176abc8>"
      ]
     },
     "execution_count": 12,
     "metadata": {},
     "output_type": "execute_result"
    }
   ],
   "source": [
    "class TestEnglGerman(unittest.TestCase): \n",
    "    def test1(self): \n",
    "        self.assertEqual(english_to_german(0), 'TypeError') \n",
    "        self.assertEqual(english_to_german('Hello'), 'Hallo')  \n",
    "        self.assertNotEqual(english_to_german('car'), 'Regenschirm')\n",
    "\n",
    "unittest.main(argv=[''], verbosity=3, exit=False)"
   ]
  },
  {
   "cell_type": "code",
   "execution_count": 13,
   "id": "fuzzy-wisdom",
   "metadata": {},
   "outputs": [
    {
     "name": "stdout",
     "output_type": "stream",
     "text": [
      "Collecting flake8\n",
      "  Downloading https://files.pythonhosted.org/packages/2a/cb/cd92e789442e234b8701bf6e886a55fbc83b7fd6e529b047e20b9cf196e8/flake8-3.9.0-py2.py3-none-any.whl (73kB)\n",
      "Collecting pycodestyle_magic\n",
      "  Using cached https://files.pythonhosted.org/packages/ec/6f/f206894604a44b522bfa3b6264ca6c213bf89f119942dc3f35fc6589954c/pycodestyle_magic-0.5-py2.py3-none-any.whl\n",
      "Collecting pycodestyle<2.8.0,>=2.7.0 (from flake8)\n",
      "  Downloading https://files.pythonhosted.org/packages/de/cc/227251b1471f129bc35e966bb0fceb005969023926d744139642d847b7ae/pycodestyle-2.7.0-py2.py3-none-any.whl (41kB)\n",
      "Requirement already satisfied: importlib-metadata; python_version < \"3.8\" in c:\\users\\gamarandor\\anaconda3\\envs\\ibm_sql\\lib\\site-packages (from flake8) (0.23)\n",
      "Collecting pyflakes<2.4.0,>=2.3.0 (from flake8)\n",
      "  Downloading https://files.pythonhosted.org/packages/6c/11/2a745612f1d3cbbd9c69ba14b1b43a35a2f5c3c81cd0124508c52c64307f/pyflakes-2.3.1-py2.py3-none-any.whl (68kB)\n",
      "Requirement already satisfied: mccabe<0.7.0,>=0.6.0 in c:\\users\\gamarandor\\anaconda3\\envs\\ibm_sql\\lib\\site-packages (from flake8) (0.6.1)\n",
      "Requirement already satisfied: zipp>=0.5 in c:\\users\\gamarandor\\anaconda3\\envs\\ibm_sql\\lib\\site-packages (from importlib-metadata; python_version < \"3.8\"->flake8) (0.6.0)\n",
      "Requirement already satisfied: more-itertools in c:\\users\\gamarandor\\anaconda3\\envs\\ibm_sql\\lib\\site-packages (from zipp>=0.5->importlib-metadata; python_version < \"3.8\"->flake8) (7.2.0)\n",
      "Installing collected packages: pycodestyle, pyflakes, flake8, pycodestyle-magic\n",
      "  Found existing installation: pycodestyle 2.5.0\n",
      "    Uninstalling pycodestyle-2.5.0:\n",
      "      Successfully uninstalled pycodestyle-2.5.0\n",
      "  Found existing installation: pyflakes 2.1.1\n",
      "    Uninstalling pyflakes-2.1.1:\n",
      "      Successfully uninstalled pyflakes-2.1.1\n",
      "Successfully installed flake8-3.9.0 pycodestyle-2.7.0 pycodestyle-magic-0.5 pyflakes-2.3.1\n",
      "Note: you may need to restart the kernel to use updated packages.\n"
     ]
    },
    {
     "name": "stderr",
     "output_type": "stream",
     "text": [
      "ERROR: spyder 3.3.6 requires pyqt5<5.13; python_version >= \"3\", which is not installed.\n",
      "ERROR: spyder 3.3.6 requires pyqtwebengine<5.13; python_version >= \"3\", which is not installed.\n"
     ]
    }
   ],
   "source": [
    "pip install flake8 pycodestyle_magic"
   ]
  },
  {
   "cell_type": "code",
   "execution_count": 16,
   "id": "consistent-compromise",
   "metadata": {},
   "outputs": [],
   "source": [
    "%load_ext pycodestyle_magic"
   ]
  },
  {
   "cell_type": "code",
   "execution_count": 92,
   "id": "binary-greensboro",
   "metadata": {},
   "outputs": [
    {
     "name": "stdout",
     "output_type": "stream",
     "text": [
      "The pycodestyle_magic extension is already loaded. To reload it, use:\n",
      "  %reload_ext pycodestyle_magic\n"
     ]
    }
   ],
   "source": [
    "%load_ext pycodestyle_magic"
   ]
  },
  {
   "cell_type": "code",
   "execution_count": 27,
   "id": "rubber-bracelet",
   "metadata": {},
   "outputs": [
    {
     "name": "stderr",
     "output_type": "stream",
     "text": [
      "8:1: W391 blank line at end of file\n"
     ]
    }
   ],
   "source": [
    "%%pycodestyle\n",
    "def english_to_german(recognized_text):\n",
    "    translation_response_ger = \\\n",
    "       language_translator.translate(text=recognized_text, model_id='en-de')\n",
    "    translation_ger = translation_response_ger.get_result()\n",
    "    german_translation = translation_ger['translations'][0]['translation']\n",
    "    return german_translation"
   ]
  },
  {
   "cell_type": "code",
   "execution_count": null,
   "id": "stopped-pulse",
   "metadata": {},
   "outputs": [],
   "source": [
    "%%pycodestyle"
   ]
  }
 ],
 "metadata": {
  "kernelspec": {
   "display_name": "Python [conda env:ibm_sql]",
   "language": "python",
   "name": "conda-env-ibm_sql-py"
  },
  "language_info": {
   "codemirror_mode": {
    "name": "ipython",
    "version": 3
   },
   "file_extension": ".py",
   "mimetype": "text/x-python",
   "name": "python",
   "nbconvert_exporter": "python",
   "pygments_lexer": "ipython3",
   "version": "3.7.4"
  }
 },
 "nbformat": 4,
 "nbformat_minor": 5
}
