{
 "cells": [
  {
   "cell_type": "markdown",
   "id": "supposed-rescue",
   "metadata": {},
   "source": [
    "# Summary\n",
    "\n",
    "\n",
    "<p>\n",
    "The project applies the \"IBM Watson™ Language Translator to text language translation from English to French and German. It conducts unit tests and checks code style, while the main focus is the translation.\n",
    "</p> \n",
    "\n",
    "<h3>Table of contents</h3>\n",
    "<ul>\n",
    "  <li>language translation </li>\n",
    "  <li>unit tests</li>\n",
    "  <li>code style</li>\n",
    "</ul> \n",
    "\n",
    "\n",
    "<p>\n",
    "The project is inspired by the course \"Python Project for AI & Application Development\" within the \"IBM Applied AI Professional Certificate\".<br>\n",
    "<a href=\"https://www.coursera.org/professional-certificates/applied-artifical-intelligence-ibm-watson-ai\" target=\"_blank\">IBM Coursera</a> \n",
    "</p> "
   ]
  },
  {
   "cell_type": "markdown",
   "id": "prescribed-sweet",
   "metadata": {},
   "source": [
    "# Install packages"
   ]
  },
  {
   "cell_type": "code",
   "execution_count": 46,
   "id": "developed-society",
   "metadata": {},
   "outputs": [],
   "source": [
    "%%capture\n",
    "pip install ibm-watson"
   ]
  },
  {
   "cell_type": "code",
   "execution_count": 47,
   "id": "signal-collar",
   "metadata": {},
   "outputs": [],
   "source": [
    "import config"
   ]
  },
  {
   "cell_type": "code",
   "execution_count": 48,
   "id": "hydraulic-earthquake",
   "metadata": {},
   "outputs": [
    {
     "data": {
      "text/html": [
       "<div>\n",
       "<style scoped>\n",
       "    .dataframe tbody tr th:only-of-type {\n",
       "        vertical-align: middle;\n",
       "    }\n",
       "\n",
       "    .dataframe tbody tr th {\n",
       "        vertical-align: top;\n",
       "    }\n",
       "\n",
       "    .dataframe thead th {\n",
       "        text-align: right;\n",
       "    }\n",
       "</style>\n",
       "<table border=\"1\" class=\"dataframe\">\n",
       "  <thead>\n",
       "    <tr style=\"text-align: right;\">\n",
       "      <th></th>\n",
       "      <th>Vehicles</th>\n",
       "      <th>Count</th>\n",
       "    </tr>\n",
       "  </thead>\n",
       "  <tbody>\n",
       "    <tr>\n",
       "      <td>1</td>\n",
       "      <td>Car</td>\n",
       "      <td>10</td>\n",
       "    </tr>\n",
       "    <tr>\n",
       "      <td>2</td>\n",
       "      <td>Bus</td>\n",
       "      <td>14</td>\n",
       "    </tr>\n",
       "  </tbody>\n",
       "</table>\n",
       "</div>"
      ],
      "text/plain": [
       "  Vehicles Count\n",
       "1      Car    10\n",
       "2      Bus    14"
      ]
     },
     "execution_count": 48,
     "metadata": {},
     "output_type": "execute_result"
    }
   ],
   "source": [
    "import pandas as pd\n",
    "import numpy as np\n",
    "\n",
    "# test\n",
    "np.array([['Car',10], ['Bus', 14]])\n",
    "pd.DataFrame(np.array([['Car',10], ['Bus', 14]]), index=[1,2], \n",
    "             columns=['Vehicles', \"Count\"])"
   ]
  },
  {
   "cell_type": "code",
   "execution_count": 49,
   "id": "whole-antarctica",
   "metadata": {},
   "outputs": [
    {
     "name": "stdout",
     "output_type": "stream",
     "text": [
      "0.25.1\n",
      "1.16.5\n"
     ]
    }
   ],
   "source": [
    "print(pd.__version__)\n",
    "print(np.__version__)"
   ]
  },
  {
   "cell_type": "code",
   "execution_count": 50,
   "id": "consecutive-seating",
   "metadata": {},
   "outputs": [],
   "source": [
    "from ibm_watson import LanguageTranslatorV3\n",
    "import json\n",
    "from ibm_cloud_sdk_core.authenticators import IAMAuthenticator"
   ]
  },
  {
   "cell_type": "markdown",
   "id": "cloudy-debate",
   "metadata": {},
   "source": [
    "# Authentication with service credentials\n",
    "\n",
    "<p>\n",
    "\"You authenticate to the API by using IBM Cloud Identity and Access Management (IAM)\".\n",
    "</p>\n",
    "\n",
    "<p>\n",
    "\"You can pass either a bearer token in an authorization header or an API key. Tokens support authenticated requests without embedding service credentials in every call. API keys use basic authentication. For more information, see Authenticating to Watson services.\"\n",
    "</p>\n",
    "\n",
    "<p>\n",
    "<a href=\"https://cloud.ibm.com/apidocs/language-translator?code=python\" target=\"_blank\">IBM</a> \n",
    "</p>\n"
   ]
  },
  {
   "cell_type": "code",
   "execution_count": 51,
   "id": "voluntary-electric",
   "metadata": {},
   "outputs": [],
   "source": [
    "url_lt = config.url_lt\n",
    "apikey_lt = config.apikey_lt\n",
    "version_lt = config.version_lt"
   ]
  },
  {
   "cell_type": "code",
   "execution_count": 52,
   "id": "regional-student",
   "metadata": {},
   "outputs": [
    {
     "data": {
      "text/plain": [
       "<ibm_watson.language_translator_v3.LanguageTranslatorV3 at 0x2a9ed4e4548>"
      ]
     },
     "execution_count": 52,
     "metadata": {},
     "output_type": "execute_result"
    }
   ],
   "source": [
    "authenticator = IAMAuthenticator(apikey_lt)\n",
    "language_translator = LanguageTranslatorV3(version=version_lt,authenticator=authenticator)\n",
    "language_translator.set_service_url(url_lt)\n",
    "\n",
    "# Check\n",
    "language_translator"
   ]
  },
  {
   "cell_type": "markdown",
   "id": "adaptive-shore",
   "metadata": {},
   "source": [
    "# Language translation"
   ]
  },
  {
   "cell_type": "markdown",
   "id": "prescribed-instrumentation",
   "metadata": {},
   "source": [
    "<p>\n",
    "\"IBM Watson™ Language Translator translates text from one language to another. The service offers multiple IBM-provided translation models that you can customize based on your unique terminology and language. Use Language Translator to take news from across the globe and present it in your language, communicate with your customers in their own language, and more.\"<br>\n",
    "<a href=\"https://cloud.ibm.com/apidocs/language-translator?code=python\" target=\"_blank\">language-translator</a> \n",
    "</p> \n",
    "\n",
    "<p>\n",
    "What languages are offered?\n",
    "</p>"
   ]
  },
  {
   "cell_type": "code",
   "execution_count": 53,
   "id": "lyric-edinburgh",
   "metadata": {},
   "outputs": [
    {
     "data": {
      "text/html": [
       "<div>\n",
       "<style scoped>\n",
       "    .dataframe tbody tr th:only-of-type {\n",
       "        vertical-align: middle;\n",
       "    }\n",
       "\n",
       "    .dataframe tbody tr th {\n",
       "        vertical-align: top;\n",
       "    }\n",
       "\n",
       "    .dataframe thead th {\n",
       "        text-align: right;\n",
       "    }\n",
       "</style>\n",
       "<table border=\"1\" class=\"dataframe\">\n",
       "  <thead>\n",
       "    <tr style=\"text-align: right;\">\n",
       "      <th></th>\n",
       "      <th>language</th>\n",
       "      <th>name</th>\n",
       "    </tr>\n",
       "  </thead>\n",
       "  <tbody>\n",
       "    <tr>\n",
       "      <td>0</td>\n",
       "      <td>af</td>\n",
       "      <td>Afrikaans</td>\n",
       "    </tr>\n",
       "    <tr>\n",
       "      <td>1</td>\n",
       "      <td>ar</td>\n",
       "      <td>Arabic</td>\n",
       "    </tr>\n",
       "    <tr>\n",
       "      <td>2</td>\n",
       "      <td>az</td>\n",
       "      <td>Azerbaijani</td>\n",
       "    </tr>\n",
       "    <tr>\n",
       "      <td>3</td>\n",
       "      <td>ba</td>\n",
       "      <td>Bashkir</td>\n",
       "    </tr>\n",
       "    <tr>\n",
       "      <td>4</td>\n",
       "      <td>be</td>\n",
       "      <td>Belarusian</td>\n",
       "    </tr>\n",
       "    <tr>\n",
       "      <td>...</td>\n",
       "      <td>...</td>\n",
       "      <td>...</td>\n",
       "    </tr>\n",
       "    <tr>\n",
       "      <td>71</td>\n",
       "      <td>uk</td>\n",
       "      <td>Ukrainian</td>\n",
       "    </tr>\n",
       "    <tr>\n",
       "      <td>72</td>\n",
       "      <td>ur</td>\n",
       "      <td>Urdu</td>\n",
       "    </tr>\n",
       "    <tr>\n",
       "      <td>73</td>\n",
       "      <td>vi</td>\n",
       "      <td>Vietnamese</td>\n",
       "    </tr>\n",
       "    <tr>\n",
       "      <td>74</td>\n",
       "      <td>zh</td>\n",
       "      <td>Simplified Chinese</td>\n",
       "    </tr>\n",
       "    <tr>\n",
       "      <td>75</td>\n",
       "      <td>zh-TW</td>\n",
       "      <td>Traditional Chinese</td>\n",
       "    </tr>\n",
       "  </tbody>\n",
       "</table>\n",
       "<p>76 rows × 2 columns</p>\n",
       "</div>"
      ],
      "text/plain": [
       "   language                 name\n",
       "0        af            Afrikaans\n",
       "1        ar               Arabic\n",
       "2        az          Azerbaijani\n",
       "3        ba              Bashkir\n",
       "4        be           Belarusian\n",
       "..      ...                  ...\n",
       "71       uk            Ukrainian\n",
       "72       ur                 Urdu\n",
       "73       vi           Vietnamese\n",
       "74       zh   Simplified Chinese\n",
       "75    zh-TW  Traditional Chinese\n",
       "\n",
       "[76 rows x 2 columns]"
      ]
     },
     "execution_count": 53,
     "metadata": {},
     "output_type": "execute_result"
    }
   ],
   "source": [
    "from pandas.io.json import json_normalize\n",
    "language_df = json_normalize(language_translator.list_identifiable_languages().get_result(), \"languages\")\n",
    "language_df "
   ]
  },
  {
   "cell_type": "code",
   "execution_count": 54,
   "id": "mental-referral",
   "metadata": {},
   "outputs": [
    {
     "data": {
      "text/html": [
       "<div>\n",
       "<style scoped>\n",
       "    .dataframe tbody tr th:only-of-type {\n",
       "        vertical-align: middle;\n",
       "    }\n",
       "\n",
       "    .dataframe tbody tr th {\n",
       "        vertical-align: top;\n",
       "    }\n",
       "\n",
       "    .dataframe thead th {\n",
       "        text-align: right;\n",
       "    }\n",
       "</style>\n",
       "<table border=\"1\" class=\"dataframe\">\n",
       "  <thead>\n",
       "    <tr style=\"text-align: right;\">\n",
       "      <th></th>\n",
       "      <th>language</th>\n",
       "      <th>name</th>\n",
       "    </tr>\n",
       "  </thead>\n",
       "  <tbody>\n",
       "    <tr>\n",
       "      <td>21</td>\n",
       "      <td>fr</td>\n",
       "      <td>French</td>\n",
       "    </tr>\n",
       "  </tbody>\n",
       "</table>\n",
       "</div>"
      ],
      "text/plain": [
       "   language    name\n",
       "21       fr  French"
      ]
     },
     "execution_count": 54,
     "metadata": {},
     "output_type": "execute_result"
    }
   ],
   "source": [
    "language_df[language_df.name=='French']"
   ]
  },
  {
   "cell_type": "code",
   "execution_count": 55,
   "id": "abroad-beatles",
   "metadata": {},
   "outputs": [
    {
     "data": {
      "text/html": [
       "<div>\n",
       "<style scoped>\n",
       "    .dataframe tbody tr th:only-of-type {\n",
       "        vertical-align: middle;\n",
       "    }\n",
       "\n",
       "    .dataframe tbody tr th {\n",
       "        vertical-align: top;\n",
       "    }\n",
       "\n",
       "    .dataframe thead th {\n",
       "        text-align: right;\n",
       "    }\n",
       "</style>\n",
       "<table border=\"1\" class=\"dataframe\">\n",
       "  <thead>\n",
       "    <tr style=\"text-align: right;\">\n",
       "      <th></th>\n",
       "      <th>language</th>\n",
       "      <th>name</th>\n",
       "    </tr>\n",
       "  </thead>\n",
       "  <tbody>\n",
       "    <tr>\n",
       "      <td>12</td>\n",
       "      <td>de</td>\n",
       "      <td>German</td>\n",
       "    </tr>\n",
       "  </tbody>\n",
       "</table>\n",
       "</div>"
      ],
      "text/plain": [
       "   language    name\n",
       "12       de  German"
      ]
     },
     "execution_count": 55,
     "metadata": {},
     "output_type": "execute_result"
    }
   ],
   "source": [
    "language_df[language_df.name=='German']"
   ]
  },
  {
   "cell_type": "markdown",
   "id": "identified-leisure",
   "metadata": {},
   "source": [
    "<b>Writing a translation function: English to French.</b>"
   ]
  },
  {
   "cell_type": "code",
   "execution_count": 56,
   "id": "encouraging-packet",
   "metadata": {},
   "outputs": [
    {
     "data": {
      "text/plain": [
       "'Bonjour'"
      ]
     },
     "execution_count": 56,
     "metadata": {},
     "output_type": "execute_result"
    }
   ],
   "source": [
    "def english_to_french(recognized_text):\n",
    "        translation_response_fr = \\\n",
    "        language_translator.translate(\\\n",
    "        text=recognized_text, model_id='en-fr')\n",
    "        translation_fr=translation_response_fr.get_result()\n",
    "        french_translation =translation_fr['translations'][0]['translation']\n",
    "        return french_translation \n",
    "\n",
    "english_to_french('Hello')\n"
   ]
  },
  {
   "cell_type": "code",
   "execution_count": 57,
   "id": "choice-klein",
   "metadata": {},
   "outputs": [
    {
     "data": {
      "text/plain": [
       "'Il rentre à la maison.'"
      ]
     },
     "execution_count": 57,
     "metadata": {},
     "output_type": "execute_result"
    }
   ],
   "source": [
    "english_to_french('He goes home.')"
   ]
  },
  {
   "cell_type": "code",
   "execution_count": 58,
   "id": "serial-musician",
   "metadata": {},
   "outputs": [
    {
     "data": {
      "text/plain": [
       "\"Qu'est-ce qui est dans votre esprit?\""
      ]
     },
     "execution_count": 58,
     "metadata": {},
     "output_type": "execute_result"
    }
   ],
   "source": [
    "english_to_french('What is in your mind?')"
   ]
  },
  {
   "cell_type": "code",
   "execution_count": 59,
   "id": "secure-jurisdiction",
   "metadata": {},
   "outputs": [
    {
     "data": {
      "text/plain": [
       "'Hallo'"
      ]
     },
     "execution_count": 59,
     "metadata": {},
     "output_type": "execute_result"
    }
   ],
   "source": [
    "def english_to_german(recognized_text):\n",
    "        translation_response_ger = \\\n",
    "        language_translator.translate(\\\n",
    "        text=recognized_text, model_id='en-de')\n",
    "        translation_ger=translation_response_ger.get_result()\n",
    "        german_translation =translation_ger['translations'][0]['translation']\n",
    "        return german_translation\n",
    "\n",
    "english_to_german('Hello')"
   ]
  },
  {
   "cell_type": "code",
   "execution_count": 60,
   "id": "conditional-rebecca",
   "metadata": {},
   "outputs": [
    {
     "data": {
      "text/plain": [
       "'Er geht nach Hause.'"
      ]
     },
     "execution_count": 60,
     "metadata": {},
     "output_type": "execute_result"
    }
   ],
   "source": [
    "english_to_german('He goes home.')"
   ]
  },
  {
   "cell_type": "code",
   "execution_count": 61,
   "id": "activated-motorcycle",
   "metadata": {},
   "outputs": [
    {
     "data": {
      "text/plain": [
       "'Was ist in deinem Verstand?'"
      ]
     },
     "execution_count": 61,
     "metadata": {},
     "output_type": "execute_result"
    }
   ],
   "source": [
    "english_to_german('What is in your mind?')"
   ]
  },
  {
   "cell_type": "markdown",
   "id": "disturbed-parliament",
   "metadata": {},
   "source": [
    "# Unit tests\n",
    "\n",
    "<p>\n",
    "\"In computer programming, unit testing is a software testing method by which individual units of source code sets of one or more computer program modules together with associated control data, usage procedures, and operating procedures are tested to determine whether they are fit for use.\"<br>\n",
    "<a href=\"https://en.wikipedia.org/wiki/Unit_testing\" target=\"_blank\">Wikipedia</a> \n",
    "</p> \n"
   ]
  },
  {
   "cell_type": "code",
   "execution_count": 62,
   "id": "prescription-cargo",
   "metadata": {},
   "outputs": [
    {
     "name": "stderr",
     "output_type": "stream",
     "text": [
      "test1 (__main__.TestEnglFrench) ... ok\n",
      "test2 (__main__.TestEnglGerman) ... ok\n",
      "\n",
      "----------------------------------------------------------------------\n",
      "Ran 2 tests in 3.884s\n",
      "\n",
      "OK\n"
     ]
    },
    {
     "data": {
      "text/plain": [
       "<unittest.main.TestProgram at 0x2a9ed501708>"
      ]
     },
     "execution_count": 62,
     "metadata": {},
     "output_type": "execute_result"
    }
   ],
   "source": [
    "import unittest\n",
    "\n",
    "class TestEnglFrench(unittest.TestCase): \n",
    "    def test1(self): \n",
    "        self.assertEqual(english_to_french('sun'), 'Soleil') \n",
    "        self.assertEqual(english_to_french('Hello'), 'Bonjour')  \n",
    "        self.assertNotEqual(english_to_french('car'), 'parapluie')  \n",
    "\n",
    "unittest.main(argv=[''], verbosity=3, exit=False)\n",
    "\n"
   ]
  },
  {
   "cell_type": "code",
   "execution_count": 63,
   "id": "norman-scottish",
   "metadata": {},
   "outputs": [
    {
     "data": {
      "text/plain": [
       "'0'"
      ]
     },
     "execution_count": 63,
     "metadata": {},
     "output_type": "execute_result"
    }
   ],
   "source": [
    "english_to_french(0)"
   ]
  },
  {
   "cell_type": "code",
   "execution_count": 64,
   "id": "meaningful-cooling",
   "metadata": {},
   "outputs": [
    {
     "data": {
      "text/plain": [
       "'Auto'"
      ]
     },
     "execution_count": 64,
     "metadata": {},
     "output_type": "execute_result"
    }
   ],
   "source": [
    "english_to_german('car')"
   ]
  },
  {
   "cell_type": "code",
   "execution_count": 65,
   "id": "textile-relative",
   "metadata": {},
   "outputs": [
    {
     "name": "stderr",
     "output_type": "stream",
     "text": [
      "test1 (__main__.TestEnglFrench) ... ok\n",
      "test2 (__main__.TestEnglGerman) ... ok\n",
      "\n",
      "----------------------------------------------------------------------\n",
      "Ran 2 tests in 3.064s\n",
      "\n",
      "OK\n"
     ]
    },
    {
     "data": {
      "text/plain": [
       "<unittest.main.TestProgram at 0x2a9ed4f5848>"
      ]
     },
     "execution_count": 65,
     "metadata": {},
     "output_type": "execute_result"
    }
   ],
   "source": [
    "class TestEnglGerman(unittest.TestCase): \n",
    "    def test2(self): \n",
    "        self.assertEqual(english_to_german('sun'), 'Sonne') \n",
    "        self.assertEqual(english_to_german('Hello'), 'Hallo')  \n",
    "        self.assertNotEqual(english_to_german('car'), 'Regenschirm')\n",
    "\n",
    "unittest.main(argv=[''], verbosity=3, exit=False)"
   ]
  },
  {
   "cell_type": "markdown",
   "id": "angry-commitment",
   "metadata": {},
   "source": [
    "# Code style\n",
    "\n",
    "<p>\n",
    "with \"Pycodestyle (formerly called pep8) - Python style guide checker pycodestyle is a tool to check your Python code against some of the style conventions in PEP 8.\"<br>\n",
    "<a href=\"https://pypi.org/project/pycodestyle/\" target=\"_blank\">pycodestyle</a>  \n",
    "</p> \n",
    "<p>\n",
    "For a deeper analysis Plint used on the command line is an option \n",
    "</p> \n",
    "<p>\n",
    "\"Pylint is a Python static code analysis tool which looks for programming errors, helps enforcing a coding standard, sniffs for code smells and offers simple refactoring suggestions.\"<br>\n",
    "<a href=\"https://pypi.org/project/pylint/\">Pylint</a> \n",
    "</p> \n"
   ]
  },
  {
   "cell_type": "code",
   "execution_count": 66,
   "id": "physical-domestic",
   "metadata": {},
   "outputs": [],
   "source": [
    "%%capture\n",
    "pip install flake8 pycodestyle_magic"
   ]
  },
  {
   "cell_type": "code",
   "execution_count": 67,
   "id": "coated-coverage",
   "metadata": {},
   "outputs": [
    {
     "name": "stdout",
     "output_type": "stream",
     "text": [
      "The pycodestyle_magic extension is already loaded. To reload it, use:\n",
      "  %reload_ext pycodestyle_magic\n"
     ]
    }
   ],
   "source": [
    "%load_ext pycodestyle_magic"
   ]
  },
  {
   "cell_type": "code",
   "execution_count": 68,
   "id": "silent-dimension",
   "metadata": {},
   "outputs": [
    {
     "name": "stdout",
     "output_type": "stream",
     "text": [
      "The pycodestyle_magic extension is already loaded. To reload it, use:\n",
      "  %reload_ext pycodestyle_magic\n"
     ]
    }
   ],
   "source": [
    "%load_ext pycodestyle_magic"
   ]
  },
  {
   "cell_type": "code",
   "execution_count": 69,
   "id": "hired-dictionary",
   "metadata": {},
   "outputs": [
    {
     "name": "stderr",
     "output_type": "stream",
     "text": [
      "11:1: W391 blank line at end of file\n"
     ]
    }
   ],
   "source": [
    "%%pycodestyle\n",
    "def english_to_german(recognized_text):\n",
    "    translation_response_ger = \\\n",
    "       language_translator.translate(text=recognized_text, model_id='en-de')\n",
    "    translation_ger = translation_response_ger.get_result()\n",
    "    german_translation = translation_ger['translations'][0]['translation']\n",
    "    return german_translation\n",
    "\n",
    "\n",
    "unittest.main(argv=[''], verbosity=3, exit=False)"
   ]
  },
  {
   "cell_type": "code",
   "execution_count": 90,
   "id": "graphic-tumor",
   "metadata": {},
   "outputs": [
    {
     "name": "stderr",
     "output_type": "stream",
     "text": [
      "3:1: E302 expected 2 blank lines, found 1\n",
      "3:41: W291 trailing whitespace\n",
      "4:21: W291 trailing whitespace\n",
      "5:60: W291 trailing whitespace\n",
      "6:62: W291 trailing whitespace\n",
      "11:1: W391 blank line at end of file\n"
     ]
    }
   ],
   "source": [
    "%%pycodestyle\n",
    "\n",
    "class TestEnglGerman(unittest.TestCase): \n",
    "    def test2(self): \n",
    "        self.assertEqual(english_to_german(0), 'TypeError') \n",
    "        self.assertEqual(english_to_german('Hello'), 'Hallo')  \n",
    "        self.assertNotEqual(english_to_german('car'), 'Regenschirm')\n",
    "\n",
    "\n",
    "unittest.main(argv=[''], verbosity=3, exit=False)"
   ]
  },
  {
   "cell_type": "code",
   "execution_count": 92,
   "id": "handy-bernard",
   "metadata": {},
   "outputs": [
    {
     "name": "stderr",
     "output_type": "stream",
     "text": [
      "6:60: W291 trailing whitespace\n",
      "7:62: W291 trailing whitespace\n",
      "10:1: W293 blank line contains whitespace\n",
      "12:1: W391 blank line at end of file\n"
     ]
    }
   ],
   "source": [
    "%%pycodestyle\n",
    "\n",
    "\n",
    "class TestEnglGerman(unittest.TestCase):\n",
    "    def test2(self):\n",
    "        self.assertEqual(english_to_german(0), 'TypeError') \n",
    "        self.assertEqual(english_to_german('Hello'), 'Hallo')  \n",
    "        self.assertNotEqual(english_to_german('car'), 'Regenschirm')\n",
    "\n",
    "        \n",
    "unittest.main(argv=[''], verbosity=3, exit=False)"
   ]
  },
  {
   "cell_type": "code",
   "execution_count": null,
   "id": "excited-updating",
   "metadata": {},
   "outputs": [],
   "source": []
  }
 ],
 "metadata": {
  "kernelspec": {
   "display_name": "Python [conda env:ibm_sql]",
   "language": "python",
   "name": "conda-env-ibm_sql-py"
  },
  "language_info": {
   "codemirror_mode": {
    "name": "ipython",
    "version": 3
   },
   "file_extension": ".py",
   "mimetype": "text/x-python",
   "name": "python",
   "nbconvert_exporter": "python",
   "pygments_lexer": "ipython3",
   "version": "3.7.4"
  }
 },
 "nbformat": 4,
 "nbformat_minor": 5
}
