{
 "cells": [
  {
   "cell_type": "code",
   "execution_count": 1,
   "id": "cordless-zambia",
   "metadata": {},
   "outputs": [
    {
     "name": "stdout",
     "output_type": "stream",
     "text": [
      "Requirement already satisfied: ibm-watson in c:\\users\\gamarandor\\anaconda3\\envs\\ibm_sql\\lib\\site-packages (5.1.0)\n",
      "Requirement already satisfied: ibm-cloud-sdk-core>=3.3.6 in c:\\users\\gamarandor\\anaconda3\\envs\\ibm_sql\\lib\\site-packages (from ibm-watson) (3.9.0)\n",
      "Requirement already satisfied: websocket-client==0.48.0 in c:\\users\\gamarandor\\anaconda3\\envs\\ibm_sql\\lib\\site-packages (from ibm-watson) (0.48.0)\n",
      "Requirement already satisfied: python-dateutil>=2.5.3 in c:\\users\\gamarandor\\anaconda3\\envs\\ibm_sql\\lib\\site-packages (from ibm-watson) (2.8.0)\n",
      "Requirement already satisfied: requests<3.0,>=2.0 in c:\\users\\gamarandor\\anaconda3\\envs\\ibm_sql\\lib\\site-packages (from ibm-watson) (2.22.0)\n",
      "Requirement already satisfied: PyJWT<3.0.0,>=2.0.1 in c:\\users\\gamarandor\\anaconda3\\envs\\ibm_sql\\lib\\site-packages (from ibm-cloud-sdk-core>=3.3.6->ibm-watson) (2.0.1)\n",
      "Requirement already satisfied: six in c:\\users\\gamarandor\\anaconda3\\envs\\ibm_sql\\lib\\site-packages (from websocket-client==0.48.0->ibm-watson) (1.12.0)\n",
      "Requirement already satisfied: idna<2.9,>=2.5 in c:\\users\\gamarandor\\anaconda3\\envs\\ibm_sql\\lib\\site-packages (from requests<3.0,>=2.0->ibm-watson) (2.8)\n",
      "Requirement already satisfied: urllib3!=1.25.0,!=1.25.1,<1.26,>=1.21.1 in c:\\users\\gamarandor\\anaconda3\\envs\\ibm_sql\\lib\\site-packages (from requests<3.0,>=2.0->ibm-watson) (1.24.2)\n",
      "Requirement already satisfied: chardet<3.1.0,>=3.0.2 in c:\\users\\gamarandor\\anaconda3\\envs\\ibm_sql\\lib\\site-packages (from requests<3.0,>=2.0->ibm-watson) (3.0.4)\n",
      "Requirement already satisfied: certifi>=2017.4.17 in c:\\users\\gamarandor\\anaconda3\\envs\\ibm_sql\\lib\\site-packages (from requests<3.0,>=2.0->ibm-watson) (2019.9.11)\n",
      "Note: you may need to restart the kernel to use updated packages.\n"
     ]
    }
   ],
   "source": [
    "pip install ibm-watson"
   ]
  },
  {
   "cell_type": "code",
   "execution_count": 2,
   "id": "overhead-sucking",
   "metadata": {},
   "outputs": [],
   "source": [
    "import config"
   ]
  },
  {
   "cell_type": "code",
   "execution_count": 3,
   "id": "daily-vanilla",
   "metadata": {},
   "outputs": [
    {
     "data": {
      "text/html": [
       "<div>\n",
       "<style scoped>\n",
       "    .dataframe tbody tr th:only-of-type {\n",
       "        vertical-align: middle;\n",
       "    }\n",
       "\n",
       "    .dataframe tbody tr th {\n",
       "        vertical-align: top;\n",
       "    }\n",
       "\n",
       "    .dataframe thead th {\n",
       "        text-align: right;\n",
       "    }\n",
       "</style>\n",
       "<table border=\"1\" class=\"dataframe\">\n",
       "  <thead>\n",
       "    <tr style=\"text-align: right;\">\n",
       "      <th></th>\n",
       "      <th>Vehicles</th>\n",
       "      <th>Count</th>\n",
       "    </tr>\n",
       "  </thead>\n",
       "  <tbody>\n",
       "    <tr>\n",
       "      <td>1</td>\n",
       "      <td>Car</td>\n",
       "      <td>10</td>\n",
       "    </tr>\n",
       "    <tr>\n",
       "      <td>2</td>\n",
       "      <td>Bus</td>\n",
       "      <td>14</td>\n",
       "    </tr>\n",
       "  </tbody>\n",
       "</table>\n",
       "</div>"
      ],
      "text/plain": [
       "  Vehicles Count\n",
       "1      Car    10\n",
       "2      Bus    14"
      ]
     },
     "execution_count": 3,
     "metadata": {},
     "output_type": "execute_result"
    }
   ],
   "source": [
    "import pandas as pd\n",
    "import numpy as np\n",
    "np.array([['Car',10], ['Bus', 14]])\n",
    "pd.DataFrame(np.array([['Car',10], ['Bus', 14]]), index=[1,2], \n",
    "             columns=['Vehicles', \"Count\"])"
   ]
  },
  {
   "cell_type": "code",
   "execution_count": 5,
   "id": "willing-preservation",
   "metadata": {},
   "outputs": [],
   "source": [
    "from ibm_watson import LanguageTranslatorV3\n",
    "import json\n",
    "from ibm_cloud_sdk_core.authenticators import IAMAuthenticator\n",
    "\n",
    "\n",
    "url_lt = config.url_lt\n",
    "apikey_lt = config.apikey_lt\n",
    "version_lt = config.version_lt"
   ]
  },
  {
   "cell_type": "code",
   "execution_count": 6,
   "id": "first-divorce",
   "metadata": {},
   "outputs": [
    {
     "data": {
      "text/plain": [
       "<ibm_watson.language_translator_v3.LanguageTranslatorV3 at 0x1c0dcb9ea88>"
      ]
     },
     "execution_count": 6,
     "metadata": {},
     "output_type": "execute_result"
    }
   ],
   "source": [
    "authenticator = IAMAuthenticator(apikey_lt)\n",
    "language_translator = LanguageTranslatorV3(version=version_lt,authenticator=authenticator)\n",
    "language_translator.set_service_url(url_lt)\n",
    "language_translator"
   ]
  },
  {
   "cell_type": "code",
   "execution_count": 7,
   "id": "congressional-discharge",
   "metadata": {},
   "outputs": [
    {
     "data": {
      "text/html": [
       "<div>\n",
       "<style scoped>\n",
       "    .dataframe tbody tr th:only-of-type {\n",
       "        vertical-align: middle;\n",
       "    }\n",
       "\n",
       "    .dataframe tbody tr th {\n",
       "        vertical-align: top;\n",
       "    }\n",
       "\n",
       "    .dataframe thead th {\n",
       "        text-align: right;\n",
       "    }\n",
       "</style>\n",
       "<table border=\"1\" class=\"dataframe\">\n",
       "  <thead>\n",
       "    <tr style=\"text-align: right;\">\n",
       "      <th></th>\n",
       "      <th>language</th>\n",
       "      <th>name</th>\n",
       "    </tr>\n",
       "  </thead>\n",
       "  <tbody>\n",
       "    <tr>\n",
       "      <td>0</td>\n",
       "      <td>af</td>\n",
       "      <td>Afrikaans</td>\n",
       "    </tr>\n",
       "    <tr>\n",
       "      <td>1</td>\n",
       "      <td>ar</td>\n",
       "      <td>Arabic</td>\n",
       "    </tr>\n",
       "    <tr>\n",
       "      <td>2</td>\n",
       "      <td>az</td>\n",
       "      <td>Azerbaijani</td>\n",
       "    </tr>\n",
       "    <tr>\n",
       "      <td>3</td>\n",
       "      <td>ba</td>\n",
       "      <td>Bashkir</td>\n",
       "    </tr>\n",
       "    <tr>\n",
       "      <td>4</td>\n",
       "      <td>be</td>\n",
       "      <td>Belarusian</td>\n",
       "    </tr>\n",
       "    <tr>\n",
       "      <td>...</td>\n",
       "      <td>...</td>\n",
       "      <td>...</td>\n",
       "    </tr>\n",
       "    <tr>\n",
       "      <td>71</td>\n",
       "      <td>uk</td>\n",
       "      <td>Ukrainian</td>\n",
       "    </tr>\n",
       "    <tr>\n",
       "      <td>72</td>\n",
       "      <td>ur</td>\n",
       "      <td>Urdu</td>\n",
       "    </tr>\n",
       "    <tr>\n",
       "      <td>73</td>\n",
       "      <td>vi</td>\n",
       "      <td>Vietnamese</td>\n",
       "    </tr>\n",
       "    <tr>\n",
       "      <td>74</td>\n",
       "      <td>zh</td>\n",
       "      <td>Simplified Chinese</td>\n",
       "    </tr>\n",
       "    <tr>\n",
       "      <td>75</td>\n",
       "      <td>zh-TW</td>\n",
       "      <td>Traditional Chinese</td>\n",
       "    </tr>\n",
       "  </tbody>\n",
       "</table>\n",
       "<p>76 rows × 2 columns</p>\n",
       "</div>"
      ],
      "text/plain": [
       "   language                 name\n",
       "0        af            Afrikaans\n",
       "1        ar               Arabic\n",
       "2        az          Azerbaijani\n",
       "3        ba              Bashkir\n",
       "4        be           Belarusian\n",
       "..      ...                  ...\n",
       "71       uk            Ukrainian\n",
       "72       ur                 Urdu\n",
       "73       vi           Vietnamese\n",
       "74       zh   Simplified Chinese\n",
       "75    zh-TW  Traditional Chinese\n",
       "\n",
       "[76 rows x 2 columns]"
      ]
     },
     "execution_count": 7,
     "metadata": {},
     "output_type": "execute_result"
    }
   ],
   "source": [
    "from pandas.io.json import json_normalize\n",
    "language_df = json_normalize(language_translator.list_identifiable_languages().get_result(), \"languages\")\n",
    "language_df "
   ]
  },
  {
   "cell_type": "code",
   "execution_count": 8,
   "id": "strategic-radical",
   "metadata": {},
   "outputs": [
    {
     "data": {
      "text/html": [
       "<div>\n",
       "<style scoped>\n",
       "    .dataframe tbody tr th:only-of-type {\n",
       "        vertical-align: middle;\n",
       "    }\n",
       "\n",
       "    .dataframe tbody tr th {\n",
       "        vertical-align: top;\n",
       "    }\n",
       "\n",
       "    .dataframe thead th {\n",
       "        text-align: right;\n",
       "    }\n",
       "</style>\n",
       "<table border=\"1\" class=\"dataframe\">\n",
       "  <thead>\n",
       "    <tr style=\"text-align: right;\">\n",
       "      <th></th>\n",
       "      <th>language</th>\n",
       "      <th>name</th>\n",
       "    </tr>\n",
       "  </thead>\n",
       "  <tbody>\n",
       "    <tr>\n",
       "      <td>12</td>\n",
       "      <td>de</td>\n",
       "      <td>German</td>\n",
       "    </tr>\n",
       "  </tbody>\n",
       "</table>\n",
       "</div>"
      ],
      "text/plain": [
       "   language    name\n",
       "12       de  German"
      ]
     },
     "execution_count": 8,
     "metadata": {},
     "output_type": "execute_result"
    }
   ],
   "source": [
    "language_df[language_df.name=='German']"
   ]
  },
  {
   "cell_type": "code",
   "execution_count": 9,
   "id": "attractive-former",
   "metadata": {},
   "outputs": [
    {
     "data": {
      "text/plain": [
       "'Bonjour'"
      ]
     },
     "execution_count": 9,
     "metadata": {},
     "output_type": "execute_result"
    }
   ],
   "source": [
    "def english_to_french(recognized_text):\n",
    "        translation_response_fr = \\\n",
    "        language_translator.translate(\\\n",
    "        text=recognized_text, model_id='en-fr')\n",
    "        translation_fr=translation_response_fr.get_result()\n",
    "        french_translation =translation_fr['translations'][0]['translation']\n",
    "        return french_translation \n",
    "\n",
    "english_to_french('Hello')\n"
   ]
  },
  {
   "cell_type": "code",
   "execution_count": 10,
   "id": "eight-kidney",
   "metadata": {},
   "outputs": [
    {
     "name": "stderr",
     "output_type": "stream",
     "text": [
      "test1 (__main__.TestEnglFrench) ... FAIL\n",
      "\n",
      "======================================================================\n",
      "FAIL: test1 (__main__.TestEnglFrench)\n",
      "----------------------------------------------------------------------\n",
      "Traceback (most recent call last):\n",
      "  File \"<ipython-input-10-fa19d1b3adcb>\", line 5, in test1\n",
      "    self.assertEqual(english_to_french(0), 'TypeError')\n",
      "AssertionError: '0' != 'TypeError'\n",
      "- 0\n",
      "+ TypeError\n",
      "\n",
      "\n",
      "----------------------------------------------------------------------\n",
      "Ran 1 test in 0.264s\n",
      "\n",
      "FAILED (failures=1)\n"
     ]
    },
    {
     "data": {
      "text/plain": [
       "<unittest.main.TestProgram at 0x1c0dcc57448>"
      ]
     },
     "execution_count": 10,
     "metadata": {},
     "output_type": "execute_result"
    }
   ],
   "source": [
    "import unittest\n",
    "\n",
    "class TestEnglFrench(unittest.TestCase): \n",
    "    def test1(self): \n",
    "        self.assertEqual(english_to_french(0), 'TypeError') \n",
    "        self.assertEqual(english_to_french('Hello'), 'Bonjour')  \n",
    "        self.assertNotEqual(english_to_french('car'), 'parapluie')  \n",
    "\n",
    "unittest.main(argv=[''], verbosity=3, exit=False)\n",
    "\n"
   ]
  },
  {
   "cell_type": "code",
   "execution_count": 11,
   "id": "recent-possession",
   "metadata": {},
   "outputs": [
    {
     "data": {
      "text/plain": [
       "'0'"
      ]
     },
     "execution_count": 11,
     "metadata": {},
     "output_type": "execute_result"
    }
   ],
   "source": [
    "english_to_french(0)"
   ]
  },
  {
   "cell_type": "code",
   "execution_count": 12,
   "id": "anonymous-gateway",
   "metadata": {},
   "outputs": [
    {
     "data": {
      "text/plain": [
       "'Hallo'"
      ]
     },
     "execution_count": 12,
     "metadata": {},
     "output_type": "execute_result"
    }
   ],
   "source": [
    "def english_to_german(recognized_text):\n",
    "        translation_response_ger = \\\n",
    "        language_translator.translate(\\\n",
    "        text=recognized_text, model_id='en-de')\n",
    "        translation_ger=translation_response_ger.get_result()\n",
    "        german_translation =translation_ger['translations'][0]['translation']\n",
    "        return german_translation\n",
    "\n",
    "english_to_german('Hello')"
   ]
  },
  {
   "cell_type": "code",
   "execution_count": 13,
   "id": "abroad-manufacturer",
   "metadata": {},
   "outputs": [
    {
     "data": {
      "text/plain": [
       "'Auto'"
      ]
     },
     "execution_count": 13,
     "metadata": {},
     "output_type": "execute_result"
    }
   ],
   "source": [
    "english_to_german('car')"
   ]
  },
  {
   "cell_type": "code",
   "execution_count": 14,
   "id": "monetary-vulnerability",
   "metadata": {},
   "outputs": [
    {
     "name": "stderr",
     "output_type": "stream",
     "text": [
      "test1 (__main__.TestEnglFrench) ... FAIL\n",
      "test1 (__main__.TestEnglGerman) ... FAIL\n",
      "\n",
      "======================================================================\n",
      "FAIL: test1 (__main__.TestEnglFrench)\n",
      "----------------------------------------------------------------------\n",
      "Traceback (most recent call last):\n",
      "  File \"<ipython-input-10-fa19d1b3adcb>\", line 5, in test1\n",
      "    self.assertEqual(english_to_french(0), 'TypeError')\n",
      "AssertionError: '0' != 'TypeError'\n",
      "- 0\n",
      "+ TypeError\n",
      "\n",
      "\n",
      "======================================================================\n",
      "FAIL: test1 (__main__.TestEnglGerman)\n",
      "----------------------------------------------------------------------\n",
      "Traceback (most recent call last):\n",
      "  File \"<ipython-input-14-48aba9e325f7>\", line 3, in test1\n",
      "    self.assertEqual(english_to_german(0), 'TypeError')\n",
      "AssertionError: '0' != 'TypeError'\n",
      "- 0\n",
      "+ TypeError\n",
      "\n",
      "\n",
      "----------------------------------------------------------------------\n",
      "Ran 2 tests in 0.522s\n",
      "\n",
      "FAILED (failures=2)\n"
     ]
    },
    {
     "data": {
      "text/plain": [
       "<unittest.main.TestProgram at 0x1c0dcc63808>"
      ]
     },
     "execution_count": 14,
     "metadata": {},
     "output_type": "execute_result"
    }
   ],
   "source": [
    "class TestEnglGerman(unittest.TestCase): \n",
    "    def test1(self): \n",
    "        self.assertEqual(english_to_german(0), 'TypeError') \n",
    "        self.assertEqual(english_to_german('Hello'), 'Hallo')  \n",
    "        self.assertNotEqual(english_to_german('car'), 'Regenschirm')\n",
    "\n",
    "unittest.main(argv=[''], verbosity=3, exit=False)"
   ]
  },
  {
   "cell_type": "code",
   "execution_count": 15,
   "id": "deluxe-brand",
   "metadata": {},
   "outputs": [
    {
     "name": "stdout",
     "output_type": "stream",
     "text": [
      "Requirement already satisfied: flake8 in c:\\users\\gamarandor\\anaconda3\\envs\\ibm_sql\\lib\\site-packages (3.9.0)\n",
      "Requirement already satisfied: pycodestyle_magic in c:\\users\\gamarandor\\anaconda3\\envs\\ibm_sql\\lib\\site-packages (0.5)\n",
      "Requirement already satisfied: pyflakes<2.4.0,>=2.3.0 in c:\\users\\gamarandor\\anaconda3\\envs\\ibm_sql\\lib\\site-packages (from flake8) (2.3.1)\n",
      "Requirement already satisfied: mccabe<0.7.0,>=0.6.0 in c:\\users\\gamarandor\\anaconda3\\envs\\ibm_sql\\lib\\site-packages (from flake8) (0.6.1)\n",
      "Requirement already satisfied: importlib-metadata; python_version < \"3.8\" in c:\\users\\gamarandor\\anaconda3\\envs\\ibm_sql\\lib\\site-packages (from flake8) (0.23)\n",
      "Requirement already satisfied: pycodestyle<2.8.0,>=2.7.0 in c:\\users\\gamarandor\\anaconda3\\envs\\ibm_sql\\lib\\site-packages (from flake8) (2.7.0)\n",
      "Requirement already satisfied: zipp>=0.5 in c:\\users\\gamarandor\\anaconda3\\envs\\ibm_sql\\lib\\site-packages (from importlib-metadata; python_version < \"3.8\"->flake8) (0.6.0)\n",
      "Requirement already satisfied: more-itertools in c:\\users\\gamarandor\\anaconda3\\envs\\ibm_sql\\lib\\site-packages (from zipp>=0.5->importlib-metadata; python_version < \"3.8\"->flake8) (7.2.0)\n",
      "Note: you may need to restart the kernel to use updated packages.\n"
     ]
    }
   ],
   "source": [
    "pip install flake8 pycodestyle_magic"
   ]
  },
  {
   "cell_type": "code",
   "execution_count": 16,
   "id": "signed-symbol",
   "metadata": {},
   "outputs": [],
   "source": [
    "%load_ext pycodestyle_magic"
   ]
  },
  {
   "cell_type": "code",
   "execution_count": 17,
   "id": "surprising-inflation",
   "metadata": {},
   "outputs": [
    {
     "name": "stdout",
     "output_type": "stream",
     "text": [
      "The pycodestyle_magic extension is already loaded. To reload it, use:\n",
      "  %reload_ext pycodestyle_magic\n"
     ]
    }
   ],
   "source": [
    "%load_ext pycodestyle_magic"
   ]
  },
  {
   "cell_type": "code",
   "execution_count": 18,
   "id": "empirical-appointment",
   "metadata": {},
   "outputs": [],
   "source": [
    "%%pycodestyle\n",
    "def english_to_german(recognized_text):\n",
    "    translation_response_ger = \\\n",
    "       language_translator.translate(text=recognized_text, model_id='en-de')\n",
    "    translation_ger = translation_response_ger.get_result()\n",
    "    german_translation = translation_ger['translations'][0]['translation']\n",
    "    return german_translation"
   ]
  },
  {
   "cell_type": "code",
   "execution_count": 20,
   "id": "asian-jamaica",
   "metadata": {},
   "outputs": [
    {
     "name": "stderr",
     "output_type": "stream",
     "text": [
      "3:41: W291 trailing whitespace\n",
      "4:21: W291 trailing whitespace\n",
      "5:60: W291 trailing whitespace\n",
      "6:62: W291 trailing whitespace\n",
      "9:1: E305 expected 2 blank lines after class or function definition, found 1\n",
      "10:1: W391 blank line at end of file\n"
     ]
    }
   ],
   "source": [
    "%%pycodestyle\n",
    "\n",
    "class TestEnglGerman(unittest.TestCase): \n",
    "    def test1(self): \n",
    "        self.assertEqual(english_to_german(0), 'TypeError') \n",
    "        self.assertEqual(english_to_german('Hello'), 'Hallo')  \n",
    "        self.assertNotEqual(english_to_german('car'), 'Regenschirm')\n",
    "\n",
    "unittest.main(argv=[''], verbosity=3, exit=False)"
   ]
  },
  {
   "cell_type": "code",
   "execution_count": null,
   "id": "responsible-salon",
   "metadata": {},
   "outputs": [],
   "source": []
  }
 ],
 "metadata": {
  "kernelspec": {
   "display_name": "Python [conda env:ibm_sql]",
   "language": "python",
   "name": "conda-env-ibm_sql-py"
  },
  "language_info": {
   "codemirror_mode": {
    "name": "ipython",
    "version": 3
   },
   "file_extension": ".py",
   "mimetype": "text/x-python",
   "name": "python",
   "nbconvert_exporter": "python",
   "pygments_lexer": "ipython3",
   "version": "3.7.4"
  }
 },
 "nbformat": 4,
 "nbformat_minor": 5
}
